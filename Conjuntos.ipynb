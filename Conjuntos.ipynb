{
  "nbformat": 4,
  "nbformat_minor": 0,
  "metadata": {
    "colab": {
      "provenance": [],
      "authorship_tag": "ABX9TyPyf/yH4icJ38v6HeBEOYRc",
      "include_colab_link": true
    },
    "kernelspec": {
      "name": "python3",
      "display_name": "Python 3"
    },
    "language_info": {
      "name": "python"
    }
  },
  "cells": [
    {
      "cell_type": "markdown",
      "metadata": {
        "id": "view-in-github",
        "colab_type": "text"
      },
      "source": [
        "<a href=\"https://colab.research.google.com/github/SERGIOHEREDIA07/TAREAS/blob/master/Conjuntos.ipynb\" target=\"_parent\"><img src=\"https://colab.research.google.com/assets/colab-badge.svg\" alt=\"Open In Colab\"/></a>"
      ]
    },
    {
      "cell_type": "markdown",
      "source": [],
      "metadata": {
        "id": "T7wddLr6GTcf"
      }
    },
    {
      "cell_type": "code",
      "execution_count": 1,
      "metadata": {
        "colab": {
          "base_uri": "https://localhost:8080/"
        },
        "id": "8mz-425EEuKx",
        "outputId": "8f668911-0bd4-4231-f7b5-d79a7dcb89e9"
      },
      "outputs": [
        {
          "output_type": "stream",
          "name": "stdout",
          "text": [
            "Dinámico: [1, 2]\n"
          ]
        }
      ],
      "source": [
        "# ==========================\n",
        "# ADT Conjunto - Dinámico\n",
        "# ==========================\n",
        "\n",
        "class ConjuntoDinamico:\n",
        "    def __init__(self):\n",
        "        self.elementos = []\n",
        "\n",
        "    def agregar(self, elemento):\n",
        "        if elemento not in self.elementos:\n",
        "            self.elementos.append(elemento)\n",
        "\n",
        "    def eliminar(self, elemento):\n",
        "        if elemento in self.elementos:\n",
        "            self.elementos.remove(elemento)\n",
        "\n",
        "    def contiene(self, elemento):\n",
        "        return elemento in self.elementos\n",
        "\n",
        "    def tamano(self):\n",
        "        return len(self.elementos)\n",
        "\n",
        "    def get_elementos(self):\n",
        "        return self.elementos.copy()\n",
        "\n",
        "    def set_elementos(self, nueva_lista):\n",
        "        self.elementos = list(set(nueva_lista))  # elimina duplicados\n",
        "\n",
        "\n",
        "# Dinámico\n",
        "cd = ConjuntoDinamico()\n",
        "cd.agregar(1)\n",
        "cd.agregar(2)\n",
        "cd.agregar(2)\n",
        "print(\"Dinámico:\", cd.get_elementos())\n",
        "\n",
        "\n",
        "\n"
      ]
    },
    {
      "cell_type": "code",
      "source": [
        "# ==========================\n",
        "# ADT Conjunto - Estático\n",
        "# ==========================\n",
        "\n",
        "class ConjuntoEstatico:\n",
        "    def __init__(self, capacidad_max):\n",
        "        self.capacidad = capacidad_max\n",
        "        self.elementos = [None] * self.capacidad\n",
        "        self.tamano_actual = 0\n",
        "\n",
        "    def agregar(self, elemento):\n",
        "        if not self.contiene(elemento) and self.tamano_actual < self.capacidad:\n",
        "            self.elementos[self.tamano_actual] = elemento\n",
        "            self.tamano_actual += 1\n",
        "\n",
        "    def eliminar(self, elemento):\n",
        "        for i in range(self.tamano_actual):\n",
        "            if self.elementos[i] == elemento:\n",
        "                for j in range(i, self.tamano_actual - 1):\n",
        "                    self.elementos[j] = self.elementos[j + 1]\n",
        "                self.elementos[self.tamano_actual - 1] = None\n",
        "                self.tamano_actual -= 1\n",
        "                break\n",
        "\n",
        "    def contiene(self, elemento):\n",
        "        return elemento in self.elementos[:self.tamano_actual]\n",
        "\n",
        "    def tamano(self):\n",
        "        return self.tamano_actual\n",
        "\n",
        "    def get_elementos(self):\n",
        "        return self.elementos[:self.tamano_actual]\n",
        "\n",
        "    def set_elementos(self, nueva_lista):\n",
        "        unicos = list(set(nueva_lista))[:self.capacidad]\n",
        "        for i in range(len(unicos)):\n",
        "            self.elementos[i] = unicos[i]\n",
        "        for i in range(len(unicos), self.capacidad):\n",
        "            self.elementos[i] = None\n",
        "        self.tamano_actual = len(unicos)\n",
        "\n",
        "# Estático\n",
        "ce = ConjuntoEstatico(5)\n",
        "ce.agregar(1)\n",
        "ce.agregar(2)\n",
        "ce.agregar(2)\n",
        "print(\"Estático:\", ce.get_elementos())"
      ],
      "metadata": {
        "colab": {
          "base_uri": "https://localhost:8080/"
        },
        "id": "lapthr4oE5pw",
        "outputId": "8112c6a4-a077-485f-a207-c75594a30dcd"
      },
      "execution_count": 2,
      "outputs": [
        {
          "output_type": "stream",
          "name": "stdout",
          "text": [
            "Estático: [1, 2]\n"
          ]
        }
      ]
    },
    {
      "cell_type": "code",
      "source": [
        "# ==========================\n",
        "# ADT Conjunto - Disco\n",
        "# ==========================\n",
        "\n",
        "import json\n",
        "import os\n",
        "\n",
        "class ConjuntoDisco:\n",
        "    def __init__(self, archivo='conjunto.json'):\n",
        "        self.archivo = archivo\n",
        "        self.elementos = []\n",
        "        self.cargar()\n",
        "\n",
        "    def agregar(self, elemento):\n",
        "        if elemento not in self.elementos:\n",
        "            self.elementos.append(elemento)\n",
        "            self.guardar()\n",
        "\n",
        "    def eliminar(self, elemento):\n",
        "        if elemento in self.elementos:\n",
        "            self.elementos.remove(elemento)\n",
        "            self.guardar()\n",
        "\n",
        "    def contiene(self, elemento):\n",
        "        return elemento in self.elementos\n",
        "\n",
        "    def tamano(self):\n",
        "        return len(self.elementos)\n",
        "\n",
        "    def get_elementos(self):\n",
        "        return self.elementos.copy()\n",
        "\n",
        "    def set_elementos(self, nueva_lista):\n",
        "        self.elementos = list(set(nueva_lista))\n",
        "        self.guardar()\n",
        "\n",
        "    def guardar(self):\n",
        "        with open(self.archivo, 'w') as f:\n",
        "            json.dump(self.elementos, f)\n",
        "\n",
        "    def cargar(self):\n",
        "        if os.path.exists(self.archivo):\n",
        "            with open(self.archivo, 'r') as f:\n",
        "                self.elementos = json.load(f)\n",
        "        else:\n",
        "            self.elementos = []\n",
        "\n",
        "# Disco\n",
        "cdisco = ConjuntoDisco()\n",
        "cdisco.agregar(\"manzana\")\n",
        "cdisco.agregar(\"pera\")\n",
        "print(\"Disco:\", cdisco.get_elementos())\n"
      ],
      "metadata": {
        "colab": {
          "base_uri": "https://localhost:8080/"
        },
        "id": "gTnn79FXFQLo",
        "outputId": "454568a3-8264-4212-8d72-5a11db6f7675"
      },
      "execution_count": null,
      "outputs": [
        {
          "output_type": "stream",
          "name": "stdout",
          "text": [
            "Disco: ['manzana', 'pera']\n"
          ]
        }
      ]
    }
  ]
}