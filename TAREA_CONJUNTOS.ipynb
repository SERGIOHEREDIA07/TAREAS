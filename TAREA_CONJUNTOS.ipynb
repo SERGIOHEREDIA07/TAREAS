{
  "nbformat": 4,
  "nbformat_minor": 0,
  "metadata": {
    "colab": {
      "provenance": [],
      "authorship_tag": "ABX9TyPgkUg0SvDasSnPEn/zXGj+",
      "include_colab_link": true
    },
    "kernelspec": {
      "name": "python3",
      "display_name": "Python 3"
    },
    "language_info": {
      "name": "python"
    }
  },
  "cells": [
    {
      "cell_type": "markdown",
      "metadata": {
        "id": "view-in-github",
        "colab_type": "text"
      },
      "source": [
        "<a href=\"https://colab.research.google.com/github/SERGIOHEREDIA07/TAREAS/blob/master/TAREA_CONJUNTOS.ipynb\" target=\"_parent\"><img src=\"https://colab.research.google.com/assets/colab-badge.svg\" alt=\"Open In Colab\"/></a>"
      ]
    },
    {
      "cell_type": "code",
      "execution_count": 1,
      "metadata": {
        "colab": {
          "base_uri": "https://localhost:8080/"
        },
        "id": "6F503ClZ5HtI",
        "outputId": "4a141097-6ac8-46ef-94e5-12ec4b969391"
      },
      "outputs": [
        {
          "output_type": "stream",
          "name": "stdout",
          "text": [
            "=== Conjunto Estático ===\n",
            "Elementos: {10, 20, 30}\n",
            "Existe 20? True\n",
            "Existe 50? False\n"
          ]
        }
      ],
      "source": [
        "# ==============================\n",
        "# creación de un ADT conjunto en estructura estaticos\n",
        "# ==============================\n",
        "\n",
        "class ConjuntoEstatico:\n",
        "    def __init__(self, capacidad):\n",
        "        self.__capacidad = capacidad\n",
        "        self.__elementos = [None] * capacidad\n",
        "        self.__tamanio = 0\n",
        "\n",
        "    # Getter\n",
        "    def get_elementos(self):\n",
        "        return [e for e in self.__elementos if e is not None]\n",
        "\n",
        "    # Setter\n",
        "    def set_elemento(self, valor):\n",
        "        if self.__tamanio < self.__capacidad and valor not in self.__elementos:\n",
        "            self.__elementos[self.__tamanio] = valor\n",
        "            self.__tamanio += 1\n",
        "\n",
        "    def existe(self, valor):\n",
        "        return valor in self.__elementos\n",
        "\n",
        "    def __str__(self):\n",
        "        return \"{\" + \", \".join(str(e) for e in self.get_elementos()) + \"}\"\n",
        "\n",
        "print(\"=== Conjunto Estático ===\")\n",
        "conjunto_est = ConjuntoEstatico(5)\n",
        "conjunto_est.set_elemento(10)\n",
        "conjunto_est.set_elemento(20)\n",
        "conjunto_est.set_elemento(30)\n",
        "\n",
        "print(\"Elementos:\", conjunto_est)\n",
        "print(\"Existe 20?\", conjunto_est.existe(20))\n",
        "print(\"Existe 50?\", conjunto_est.existe(50))\n"
      ]
    },
    {
      "cell_type": "code",
      "source": [
        "# ==============================\n",
        "# creacion de un ADT conjunto en estructura dinamicas\n",
        "# ==============================\n",
        "\n",
        "class Nodo:\n",
        "    def __init__(self, dato):\n",
        "        self.dato = dato\n",
        "        self.siguiente = None\n",
        "\n",
        "class ConjuntoDinamico:\n",
        "    def __init__(self):\n",
        "        self.__cabeza = None\n",
        "\n",
        "    # Setter\n",
        "    def set_elemento(self, valor):\n",
        "        if not self.existe(valor):\n",
        "            nuevo = Nodo(valor)\n",
        "            nuevo.siguiente = self.__cabeza\n",
        "            self.__cabeza = nuevo\n",
        "\n",
        "    # Getter\n",
        "    def get_elementos(self):\n",
        "        elementos = []\n",
        "        actual = self.__cabeza\n",
        "        while actual:\n",
        "            elementos.append(actual.dato)\n",
        "            actual = actual.siguiente\n",
        "        return elementos\n",
        "\n",
        "    def existe(self, valor):\n",
        "        actual = self.__cabeza\n",
        "        while actual:\n",
        "            if actual.dato == valor:\n",
        "                return True\n",
        "            actual = actual.siguiente\n",
        "        return False\n",
        "\n",
        "    def __str__(self):\n",
        "        return \"{\" + \", \".join(str(e) for e in self.get_elementos()) + \"}\"\n",
        "\n",
        "print(\"=== Conjunto Dinámico ===\")\n",
        "conjunto_dyn = ConjuntoDinamico()\n",
        "conjunto_dyn.set_elemento(5)\n",
        "conjunto_dyn.set_elemento(15)\n",
        "conjunto_dyn.set_elemento(25)\n",
        "\n",
        "print(\"Elementos:\", conjunto_dyn)\n",
        "print(\"Existe 15?\", conjunto_dyn.existe(15))\n",
        "print(\"Existe 50?\", conjunto_dyn.existe(50))\n"
      ],
      "metadata": {
        "id": "I08bLIL55b5J"
      },
      "execution_count": null,
      "outputs": []
    },
    {
      "cell_type": "code",
      "source": [
        "# ==============================\n",
        "#  creacion de un ADT conjunto en estructura - En Disco\n",
        "# ==============================\n",
        "import json\n",
        "\n",
        "class ConjuntoDisco:\n",
        "    def __init__(self, archivo=\"conjunto.json\"):\n",
        "        self.__archivo = archivo\n",
        "        try:\n",
        "            with open(self.__archivo, \"r\") as f:\n",
        "                self.__elementos = json.load(f)\n",
        "        except:\n",
        "            self.__elementos = []\n",
        "            self._guardar()\n",
        "\n",
        "    def _guardar(self):\n",
        "        with open(self.__archivo, \"w\") as f:\n",
        "            json.dump(self.__elementos, f)\n",
        "\n",
        "    # Setter\n",
        "    def set_elemento(self, valor):\n",
        "        if valor not in self.__elementos:\n",
        "            self.__elementos.append(valor)\n",
        "            self._guardar()\n",
        "\n",
        "    # Getter\n",
        "    def get_elementos(self):\n",
        "        return self.__elementos\n",
        "\n",
        "    def existe(self, valor):\n",
        "        return valor in self.__elementos\n",
        "\n",
        "    def __str__(self):\n",
        "        return \"{\" + \", \".join(str(e) for e in self.__elementos) + \"}\"\n",
        "\n",
        "print(\"=== Conjunto en Disco ===\")\n",
        "conjunto_disk = ConjuntoDisco()\n",
        "conjunto_disk.set_elemento(\"A\")\n",
        "conjunto_disk.set_elemento(\"B\")\n",
        "conjunto_disk.set_elemento(\"C\")\n",
        "\n",
        "print(\"Elementos:\", conjunto_disk)\n",
        "print(\"Existe B?\", conjunto_disk.existe(\"B\"))\n",
        "print(\"Existe Z?\", conjunto_disk.existe(\"Z\"))\n"
      ],
      "metadata": {
        "id": "GuWvg30k5oGx"
      },
      "execution_count": null,
      "outputs": []
    }
  ]
}